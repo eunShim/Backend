{
  "nbformat": 4,
  "nbformat_minor": 0,
  "metadata": {
    "colab": {
      "provenance": [],
      "mount_file_id": "https://github.com/eunShim/Backend/blob/main/bigdatacapstone.ipynb",
      "authorship_tag": "ABX9TyPkaScSgMD1pkma6fkYxeiV",
      "include_colab_link": true
    },
    "kernelspec": {
      "name": "python3",
      "display_name": "Python 3"
    },
    "language_info": {
      "name": "python"
    }
  },
  "cells": [
    {
      "cell_type": "markdown",
      "metadata": {
        "id": "view-in-github",
        "colab_type": "text"
      },
      "source": [
        "<a href=\"https://colab.research.google.com/github/eunShim/BigDataCapstone/blob/main/bigdatacapstone.ipynb\" target=\"_parent\"><img src=\"https://colab.research.google.com/assets/colab-badge.svg\" alt=\"Open In Colab\"/></a>"
      ]
    },
    {
      "cell_type": "code",
      "execution_count": 25,
      "metadata": {
        "id": "jE0ExgCMeu21",
        "outputId": "0f6ed2d0-6233-4712-9701-771f793af36c",
        "colab": {
          "base_uri": "https://localhost:8080/"
        }
      },
      "outputs": [
        {
          "output_type": "stream",
          "name": "stdout",
          "text": [
            "압축 안에 파일 개수: 297917\n",
            "앞 10개: ['KT3/', '__MACOSX/._KT3', 'KT3/u533092.csv', 'KT3/u5901.csv', 'KT3/u734989.csv', 'KT3/u763609.csv', 'KT3/u347548.csv', 'KT3/u265925.csv', 'KT3/u319352.csv', 'KT3/u406983.csv']\n"
          ]
        }
      ],
      "source": [
        "import zipfile\n",
        "\n",
        "zip_path = \"/content/EdNet-KT3.zip\"  # 로컬 경로\n",
        "\n",
        "with zipfile.ZipFile(zip_path, 'r') as z:\n",
        "    file_list = z.namelist()\n",
        "    print(\"압축 안에 파일 개수:\", len(file_list))\n",
        "    print(\"앞 10개:\", file_list[:10])"
      ]
    },
    {
      "cell_type": "code",
      "source": [
        "import pandas as pd\n",
        "\n",
        "with zipfile.ZipFile(zip_path, 'r') as z:\n",
        "    csv_files = [f for f in z.namelist() if f.endswith(\".csv\")]\n",
        "    print(\"CSV 파일 수:\", len(csv_files))\n",
        "\n",
        "    # 첫 번째 CSV만 예시로 열기\n",
        "    with z.open(csv_files[0]) as f:\n",
        "        df = pd.read_csv(f, low_memory=False)\n",
        "\n",
        "print(df.iloc[:, :5].head())\n"
      ],
      "metadata": {
        "id": "RRDNZFO7sBgX",
        "outputId": "74b9502a-751d-42be-dd3e-215a0959c718",
        "colab": {
          "base_uri": "https://localhost:8080/"
        }
      },
      "execution_count": 26,
      "outputs": [
        {
          "output_type": "stream",
          "name": "stdout",
          "text": [
            "CSV 파일 수: 297915\n",
            "       timestamp action_type item_id   source user_answer\n",
            "0  1552454260435       enter   e2575  my_note         NaN\n",
            "1  1552454264737        quit   e2575  my_note         NaN\n",
            "2  1552454266783       enter   e2482  my_note         NaN\n",
            "3  1552454283275        quit   e2482  my_note         NaN\n",
            "4  1552470265444       enter   e2482  my_note         NaN\n"
          ]
        }
      ]
    },
    {
      "cell_type": "code",
      "source": [
        "import zipfile\n",
        "import random\n",
        "import pandas as pd\n",
        "\n",
        "zip_path = \"/content/EdNet-KT3.zip\"\n",
        "\n",
        "with zipfile.ZipFile(zip_path, 'r') as z:\n",
        "    # 1. 유저별 CSV 파일 경로 가져오기\n",
        "    user_files = [f for f in z.namelist() if f.startswith(\"KT3/\") and f.endswith(\".csv\")]\n",
        "    print(\"총 사용자 파일 수:\", len(user_files))\n",
        "\n",
        "    # 2. 500명 랜덤 추출 (총 수가 500명 미만이면 전부 추출)\n",
        "    k = min(500, len(user_files))\n",
        "    sample_files = random.sample(user_files, k)\n",
        "    print(\"샘플 사용자 파일 예시:\", sample_files[:5])\n",
        "\n",
        "    # 3. 500명의 데이터를 하나의 DataFrame으로 합치기\n",
        "    dfs = []\n",
        "    for f in sample_files:\n",
        "        with z.open(f) as fp:\n",
        "            df = pd.read_csv(fp, low_memory=False)\n",
        "            df[\"source_file\"] = f.split(\"/\")[-1].replace(\".csv\", \"\")  # 유저ID 기록\n",
        "            dfs.append(df)\n",
        "\n",
        "    df_sample = pd.concat(dfs, ignore_index=True)\n",
        "\n",
        "print(\"샘플 데이터 크기:\", df_sample.shape)\n",
        "print(df_sample.head())\n"
      ],
      "metadata": {
        "id": "hfJD9qSOsBrx",
        "outputId": "06f0ef0f-b9b0-4a98-af89-0b7edd0f1b98",
        "colab": {
          "base_uri": "https://localhost:8080/"
        }
      },
      "execution_count": 32,
      "outputs": [
        {
          "output_type": "stream",
          "name": "stdout",
          "text": [
            "총 사용자 파일 수: 297915\n",
            "샘플 사용자 파일 예시: ['KT3/u474769.csv', 'KT3/u633546.csv', 'KT3/u733730.csv', 'KT3/u547146.csv', 'KT3/u333479.csv']\n",
            "샘플 데이터 크기: (181428, 7)\n",
            "       timestamp action_type item_id     source user_answer platform  \\\n",
            "0  1549275419383       enter   b4790  diagnosis         NaN   mobile   \n",
            "1  1549275434826     respond   q6258  diagnosis           b   mobile   \n",
            "2  1549275439430      submit   b4790  diagnosis         NaN   mobile   \n",
            "3  1549275439545       enter   b4512  diagnosis         NaN   mobile   \n",
            "4  1549275454532     respond   q5980  diagnosis           c   mobile   \n",
            "\n",
            "  source_file  \n",
            "0     u474769  \n",
            "1     u474769  \n",
            "2     u474769  \n",
            "3     u474769  \n",
            "4     u474769  \n"
          ]
        }
      ]
    },
    {
      "cell_type": "code",
      "source": [],
      "metadata": {
        "id": "lPaL8ETisBt2"
      },
      "execution_count": null,
      "outputs": []
    },
    {
      "cell_type": "code",
      "source": [],
      "metadata": {
        "id": "YJO1iCMasBv2"
      },
      "execution_count": null,
      "outputs": []
    },
    {
      "cell_type": "code",
      "source": [],
      "metadata": {
        "id": "yDsEtL4ksBx6"
      },
      "execution_count": null,
      "outputs": []
    },
    {
      "cell_type": "code",
      "source": [],
      "metadata": {
        "id": "HinxgW3wsB05"
      },
      "execution_count": null,
      "outputs": []
    },
    {
      "cell_type": "code",
      "source": [
        "!ls -lh /content/drive/MyDrive/EdNet-KT3.zip\n",
        "!file /content/drive/MyDrive/EdNet-KT3.zip"
      ],
      "metadata": {
        "colab": {
          "base_uri": "https://localhost:8080/"
        },
        "id": "joWfM5d2pp5Z",
        "outputId": "139d72a1-56ff-4e21-c8a9-9957b89b920d"
      },
      "execution_count": 19,
      "outputs": [
        {
          "output_type": "stream",
          "name": "stdout",
          "text": [
            "-rw------- 1 root root 543M Sep 22 04:09 /content/drive/MyDrive/EdNet-KT3.zip\n",
            "/content/drive/MyDrive/EdNet-KT3.zip: Zip archive data, at least v2.0 to extract, compression method=store\n"
          ]
        }
      ]
    }
  ]
}
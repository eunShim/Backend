{
  "nbformat": 4,
  "nbformat_minor": 0,
  "metadata": {
    "colab": {
      "provenance": [],
      "mount_file_id": "https://github.com/eunShim/Backend/blob/main/bigdatacapstone.ipynb",
      "authorship_tag": "ABX9TyMRRtOVKg+zuBKmMbmcNuA+",
      "include_colab_link": true
    },
    "kernelspec": {
      "name": "python3",
      "display_name": "Python 3"
    },
    "language_info": {
      "name": "python"
    }
  },
  "cells": [
    {
      "cell_type": "markdown",
      "metadata": {
        "id": "view-in-github",
        "colab_type": "text"
      },
      "source": [
        "<a href=\"https://colab.research.google.com/github/eunShim/BigDataCapstone/blob/main/bigdatacapstone.ipynb\" target=\"_parent\"><img src=\"https://colab.research.google.com/assets/colab-badge.svg\" alt=\"Open In Colab\"/></a>"
      ]
    },
    {
      "cell_type": "code",
      "execution_count": 33,
      "metadata": {
        "id": "jE0ExgCMeu21",
        "outputId": "a59b7872-5722-46ca-f409-3cc2ceeb0990",
        "colab": {
          "base_uri": "https://localhost:8080/"
        }
      },
      "outputs": [
        {
          "output_type": "stream",
          "name": "stdout",
          "text": [
            "압축 안에 파일 개수: 297917\n",
            "앞 10개: ['KT3/', '__MACOSX/._KT3', 'KT3/u533092.csv', 'KT3/u5901.csv', 'KT3/u734989.csv', 'KT3/u763609.csv', 'KT3/u347548.csv', 'KT3/u265925.csv', 'KT3/u319352.csv', 'KT3/u406983.csv']\n"
          ]
        }
      ],
      "source": [
        "import zipfile\n",
        "\n",
        "zip_path = \"/content/EdNet-KT3.zip\"  # 로컬 경로\n",
        "\n",
        "with zipfile.ZipFile(zip_path, 'r') as z:\n",
        "    file_list = z.namelist()\n",
        "    print(\"압축 안에 파일 개수:\", len(file_list))\n",
        "    print(\"앞 10개:\", file_list[:10])"
      ]
    },
    {
      "cell_type": "code",
      "source": [
        "import pandas as pd\n",
        "\n",
        "with zipfile.ZipFile(zip_path, 'r') as z:\n",
        "    csv_files = [f for f in z.namelist() if f.endswith(\".csv\")]\n",
        "    print(\"CSV 파일 수:\", len(csv_files))\n",
        "\n",
        "    # 첫 번째 CSV만 예시로 열기\n",
        "    with z.open(csv_files[0]) as f:\n",
        "        df = pd.read_csv(f, low_memory=False)\n",
        "\n",
        "print(df.iloc[:, :5].head())\n"
      ],
      "metadata": {
        "colab": {
          "base_uri": "https://localhost:8080/"
        },
        "id": "RRDNZFO7sBgX",
        "outputId": "77970a42-94a8-4742-844b-dce6a7e7661e"
      },
      "execution_count": 34,
      "outputs": [
        {
          "output_type": "stream",
          "name": "stdout",
          "text": [
            "CSV 파일 수: 297915\n",
            "       timestamp action_type item_id   source user_answer\n",
            "0  1552454260435       enter   e2575  my_note         NaN\n",
            "1  1552454264737        quit   e2575  my_note         NaN\n",
            "2  1552454266783       enter   e2482  my_note         NaN\n",
            "3  1552454283275        quit   e2482  my_note         NaN\n",
            "4  1552470265444       enter   e2482  my_note         NaN\n"
          ]
        }
      ]
    },
    {
      "cell_type": "code",
      "source": [
        "import zipfile\n",
        "import random\n",
        "import pandas as pd\n",
        "\n",
        "zip_path = \"/content/EdNet-KT3.zip\"\n",
        "\n",
        "with zipfile.ZipFile(zip_path, 'r') as z:\n",
        "    # 1. 유저별 CSV 파일 경로 가져오기\n",
        "    user_files = [f for f in z.namelist() if f.startswith(\"KT3/\") and f.endswith(\".csv\")]\n",
        "    print(\"총 사용자 파일 수:\", len(user_files))\n",
        "\n",
        "    # 2. 500명 랜덤 추출 (총 수가 500명 미만이면 전부 추출)\n",
        "    k = min(500, len(user_files))\n",
        "    sample_files = random.sample(user_files, k)\n",
        "    print(\"샘플 사용자 파일 예시:\", sample_files[:5])\n",
        "\n",
        "    # 3. 500명의 데이터를 하나의 DataFrame으로 합치기\n",
        "    dfs = []\n",
        "    for f in sample_files:\n",
        "        with z.open(f) as fp:\n",
        "            df = pd.read_csv(fp, low_memory=False)\n",
        "            df[\"source_file\"] = f.split(\"/\")[-1].replace(\".csv\", \"\")  # 유저ID 기록\n",
        "            dfs.append(df)\n",
        "\n",
        "    df_sample = pd.concat(dfs, ignore_index=True)\n",
        "\n",
        "print(\"샘플 데이터 크기:\", df_sample.shape)\n",
        "print(df_sample.head())\n"
      ],
      "metadata": {
        "colab": {
          "base_uri": "https://localhost:8080/"
        },
        "id": "hfJD9qSOsBrx",
        "outputId": "751fc37b-9ec3-48dc-b1ec-33b34ebe3987"
      },
      "execution_count": 35,
      "outputs": [
        {
          "output_type": "stream",
          "name": "stdout",
          "text": [
            "총 사용자 파일 수: 297915\n",
            "샘플 사용자 파일 예시: ['KT3/u284978.csv', 'KT3/u814998.csv', 'KT3/u338032.csv', 'KT3/u437564.csv', 'KT3/u637271.csv']\n",
            "샘플 데이터 크기: (159196, 7)\n",
            "       timestamp action_type item_id     source user_answer platform  \\\n",
            "0  1539990579078       enter   b3213  diagnosis         NaN      web   \n",
            "1  1539990588793      submit   b3213  diagnosis         NaN      web   \n",
            "2  1539990588861       enter   b3213  diagnosis         NaN      web   \n",
            "3  1539990594411     respond   q4681  diagnosis           b      web   \n",
            "4  1539990596961      submit   b3213  diagnosis         NaN      web   \n",
            "\n",
            "  source_file  \n",
            "0     u284978  \n",
            "1     u284978  \n",
            "2     u284978  \n",
            "3     u284978  \n",
            "4     u284978  \n"
          ]
        }
      ]
    },
    {
      "cell_type": "code",
      "source": [
        "import pandas as pd\n",
        "from sklearn.cluster import KMeans\n",
        "from sklearn.preprocessing import StandardScaler\n",
        "\n",
        "# 풀이 개수: submit 이벤트 개수 = 푼 문제 수\n",
        "# 소요 시간: enter → submit 사이 timestamp 차이 평균\n",
        "\n",
        "# df_sample 은 여러 사용자 합친 DataFrame (source_file = 사용자)\n",
        "\n",
        "# 1. timestamp를 datetime 변환\n",
        "df_sample[\"timestamp\"] = pd.to_datetime(df_sample[\"timestamp\"])\n",
        "\n",
        "# 2. 사용자별 특징 추출\n",
        "user_features = []\n",
        "\n",
        "for uid, group in df_sample.groupby(\"source_file\"):\n",
        "    group = group.sort_values(\"timestamp\")\n",
        "\n",
        "    # enter와 submit 시각 쌍 찾기\n",
        "    enters = group[group[\"action_type\"] == \"enter\"][\"timestamp\"].tolist()\n",
        "    submits = group[group[\"action_type\"] == \"submit\"][\"timestamp\"].tolist()\n",
        "\n",
        "    times = []\n",
        "    for i in range(min(len(enters), len(submits))):\n",
        "        delta = (submits[i] - enters[i]).total_seconds()\n",
        "        if delta > 0:\n",
        "            times.append(delta)\n",
        "\n",
        "    total_attempts = len(submits)\n",
        "    avg_elapsed = sum(times)/len(times) if times else 0\n",
        "\n",
        "    # 응답률: 답안을 제출했는지 여부 (user_answer 결측치 여부)\n",
        "    submitted = group[group[\"action_type\"] == \"submit\"]\n",
        "    if len(submitted) > 0:\n",
        "        answer_rate = submitted[\"user_answer\"].notna().mean()\n",
        "    else:\n",
        "        answer_rate = 0\n",
        "\n",
        "    user_features.append({\n",
        "        \"source_file\": uid,\n",
        "        \"total_attempts\": total_attempts,\n",
        "        \"avg_elapsed\": avg_elapsed,\n",
        "        \"answer_rate\": answer_rate\n",
        "    })\n",
        "\n",
        "user_stats = pd.DataFrame(user_features)\n",
        "print(user_stats.head())\n",
        "\n",
        "# 3. KMeans 군집화\n",
        "X = user_stats[[\"total_attempts\", \"avg_elapsed\", \"answer_rate\"]]\n",
        "\n",
        "scaler = StandardScaler()\n",
        "X_scaled = scaler.fit_transform(X)\n",
        "\n",
        "kmeans = KMeans(n_clusters=3, random_state=42, n_init=\"auto\")\n",
        "user_stats[\"cluster\"] = kmeans.fit_predict(X_scaled)\n",
        "\n",
        "print(user_stats.head())\n",
        "\n",
        "# 4. 클러스터별 평균 특징\n",
        "print(user_stats.groupby(\"cluster\").mean(numeric_only=True))\n"
      ],
      "metadata": {
        "id": "_scr1DZavzQ0",
        "outputId": "587e528e-8b76-42b8-f784-558a14e41e2e",
        "colab": {
          "base_uri": "https://localhost:8080/"
        }
      },
      "execution_count": 37,
      "outputs": [
        {
          "output_type": "stream",
          "name": "stdout",
          "text": [
            "  source_file  total_attempts  avg_elapsed  answer_rate\n",
            "0      u10233             352     1.485177          0.0\n",
            "1       u1083              23     0.003791          0.0\n",
            "2      u13621              22     0.000918          0.0\n",
            "3      u13667               7     0.000051          0.0\n",
            "4      u15107             226     1.266452          0.0\n",
            "  source_file  total_attempts  avg_elapsed  answer_rate  cluster\n",
            "0      u10233             352     1.485177          0.0        0\n",
            "1       u1083              23     0.003791          0.0        0\n",
            "2      u13621              22     0.000918          0.0        0\n",
            "3      u13667               7     0.000051          0.0        0\n",
            "4      u15107             226     1.266452          0.0        0\n",
            "         total_attempts  avg_elapsed  answer_rate\n",
            "cluster                                          \n",
            "0             28.909836     0.078647          0.0\n",
            "1           1196.363636     2.363150          0.0\n",
            "2            826.000000    12.154969          0.0\n"
          ]
        }
      ]
    },
    {
      "cell_type": "code",
      "source": [],
      "metadata": {
        "id": "kFVOBUSwvzS5"
      },
      "execution_count": null,
      "outputs": []
    },
    {
      "cell_type": "code",
      "source": [],
      "metadata": {
        "id": "QObjQOlPvzWF"
      },
      "execution_count": null,
      "outputs": []
    },
    {
      "cell_type": "code",
      "source": [],
      "metadata": {
        "id": "lPaL8ETisBt2"
      },
      "execution_count": 35,
      "outputs": []
    },
    {
      "cell_type": "code",
      "source": [],
      "metadata": {
        "id": "YJO1iCMasBv2"
      },
      "execution_count": 35,
      "outputs": []
    },
    {
      "cell_type": "code",
      "source": [],
      "metadata": {
        "id": "yDsEtL4ksBx6"
      },
      "execution_count": 35,
      "outputs": []
    },
    {
      "cell_type": "code",
      "source": [],
      "metadata": {
        "id": "HinxgW3wsB05"
      },
      "execution_count": 35,
      "outputs": []
    },
    {
      "cell_type": "code",
      "source": [
        "!ls -lh /content/drive/MyDrive/EdNet-KT3.zip\n",
        "!file /content/drive/MyDrive/EdNet-KT3.zip"
      ],
      "metadata": {
        "colab": {
          "base_uri": "https://localhost:8080/"
        },
        "id": "joWfM5d2pp5Z",
        "outputId": "e3534a87-3b8e-48ce-acea-8eb3aaa8a36c"
      },
      "execution_count": 36,
      "outputs": [
        {
          "output_type": "stream",
          "name": "stdout",
          "text": [
            "-rw------- 1 root root 543M Sep 22 04:09 /content/drive/MyDrive/EdNet-KT3.zip\n",
            "/content/drive/MyDrive/EdNet-KT3.zip: Zip archive data, at least v2.0 to extract, compression method=store\n"
          ]
        }
      ]
    }
  ]
}